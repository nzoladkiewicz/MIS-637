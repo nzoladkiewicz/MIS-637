{
 "cells": [
  {
   "cell_type": "markdown",
   "id": "ee27dd9b",
   "metadata": {},
   "source": [
    "# Homework 5: k-nearest neighbor algorithm\n",
    "### Due Saturday, March 4, 11:59 PM\n",
    "\n",
    "This homework is based on the materials covered in week 5 and 6 about k-nearest neighbor algorithm. You will work with a dataset containing information about Asteroids, and develop a kNN model to classify whether an Asteroid is a Near Earth Object (NEO). \n",
    "\n",
    "Please use Python as the coding language. You are free to use existing Python libraries. Please make sure your codes can run successfully, no points will be given for a question if the code fails to run. "
   ]
  },
  {
   "cell_type": "markdown",
   "id": "225fedfc",
   "metadata": {},
   "source": [
    "### Preparation: load dataset\n",
    "Download the dataset 'neo_v2.csv.zip' and store it in the same folder as this Jupyter notebook. Use the following codes to load the dataset. "
   ]
  },
  {
   "cell_type": "code",
   "execution_count": 54,
   "id": "4f082096",
   "metadata": {},
   "outputs": [],
   "source": [
    "import numpy as np\n",
    "import pandas as pd\n",
    "\n",
    "df = pd.read_csv('neo_v2.csv')"
   ]
  },
  {
   "cell_type": "markdown",
   "id": "b3ad2a33",
   "metadata": {},
   "source": [
    "### Q1. Understand the dataset (1 point)\n",
    "1. Use the proper command to show the first 8 rows of the dataset (0.5 point)\n",
    "2. Use the proper command(s) to examine whether there is missing data in the dataset. If there is missing data, choose the suitable approach to handle missing data. (0.5 point)"
   ]
  },
  {
   "cell_type": "code",
   "execution_count": 56,
   "id": "4b54b0f3",
   "metadata": {},
   "outputs": [
    {
     "data": {
      "text/html": [
       "<div>\n",
       "<style scoped>\n",
       "    .dataframe tbody tr th:only-of-type {\n",
       "        vertical-align: middle;\n",
       "    }\n",
       "\n",
       "    .dataframe tbody tr th {\n",
       "        vertical-align: top;\n",
       "    }\n",
       "\n",
       "    .dataframe thead th {\n",
       "        text-align: right;\n",
       "    }\n",
       "</style>\n",
       "<table border=\"1\" class=\"dataframe\">\n",
       "  <thead>\n",
       "    <tr style=\"text-align: right;\">\n",
       "      <th></th>\n",
       "      <th>id</th>\n",
       "      <th>name</th>\n",
       "      <th>est_diameter_min</th>\n",
       "      <th>est_diameter_max</th>\n",
       "      <th>relative_velocity</th>\n",
       "      <th>miss_distance</th>\n",
       "      <th>orbiting_body</th>\n",
       "      <th>sentry_object</th>\n",
       "      <th>absolute_magnitude</th>\n",
       "      <th>hazardous</th>\n",
       "    </tr>\n",
       "  </thead>\n",
       "  <tbody>\n",
       "    <tr>\n",
       "      <th>0</th>\n",
       "      <td>2162635</td>\n",
       "      <td>162635 (2000 SS164)</td>\n",
       "      <td>1.198271</td>\n",
       "      <td>2.679415</td>\n",
       "      <td>13569.249224</td>\n",
       "      <td>5.483974e+07</td>\n",
       "      <td>Earth</td>\n",
       "      <td>False</td>\n",
       "      <td>16.73</td>\n",
       "      <td>False</td>\n",
       "    </tr>\n",
       "    <tr>\n",
       "      <th>1</th>\n",
       "      <td>2277475</td>\n",
       "      <td>277475 (2005 WK4)</td>\n",
       "      <td>0.265800</td>\n",
       "      <td>0.594347</td>\n",
       "      <td>73588.726663</td>\n",
       "      <td>6.143813e+07</td>\n",
       "      <td>Earth</td>\n",
       "      <td>False</td>\n",
       "      <td>20.00</td>\n",
       "      <td>True</td>\n",
       "    </tr>\n",
       "    <tr>\n",
       "      <th>2</th>\n",
       "      <td>2512244</td>\n",
       "      <td>512244 (2015 YE18)</td>\n",
       "      <td>0.722030</td>\n",
       "      <td>1.614507</td>\n",
       "      <td>114258.692129</td>\n",
       "      <td>4.979872e+07</td>\n",
       "      <td>Earth</td>\n",
       "      <td>False</td>\n",
       "      <td>17.83</td>\n",
       "      <td>False</td>\n",
       "    </tr>\n",
       "    <tr>\n",
       "      <th>3</th>\n",
       "      <td>3596030</td>\n",
       "      <td>(2012 BV13)</td>\n",
       "      <td>0.096506</td>\n",
       "      <td>0.215794</td>\n",
       "      <td>24764.303138</td>\n",
       "      <td>2.543497e+07</td>\n",
       "      <td>Earth</td>\n",
       "      <td>False</td>\n",
       "      <td>22.20</td>\n",
       "      <td>False</td>\n",
       "    </tr>\n",
       "    <tr>\n",
       "      <th>4</th>\n",
       "      <td>3667127</td>\n",
       "      <td>(2014 GE35)</td>\n",
       "      <td>0.255009</td>\n",
       "      <td>0.570217</td>\n",
       "      <td>42737.733765</td>\n",
       "      <td>4.627557e+07</td>\n",
       "      <td>Earth</td>\n",
       "      <td>False</td>\n",
       "      <td>20.09</td>\n",
       "      <td>True</td>\n",
       "    </tr>\n",
       "    <tr>\n",
       "      <th>5</th>\n",
       "      <td>54138696</td>\n",
       "      <td>(2021 GY23)</td>\n",
       "      <td>0.036354</td>\n",
       "      <td>0.081291</td>\n",
       "      <td>34297.587778</td>\n",
       "      <td>4.058569e+07</td>\n",
       "      <td>Earth</td>\n",
       "      <td>False</td>\n",
       "      <td>24.32</td>\n",
       "      <td>False</td>\n",
       "    </tr>\n",
       "    <tr>\n",
       "      <th>6</th>\n",
       "      <td>54189957</td>\n",
       "      <td>(2021 PY40)</td>\n",
       "      <td>0.171615</td>\n",
       "      <td>0.383743</td>\n",
       "      <td>27529.472307</td>\n",
       "      <td>2.906912e+07</td>\n",
       "      <td>Earth</td>\n",
       "      <td>False</td>\n",
       "      <td>20.95</td>\n",
       "      <td>False</td>\n",
       "    </tr>\n",
       "    <tr>\n",
       "      <th>7</th>\n",
       "      <td>54230078</td>\n",
       "      <td>(2021 XD6)</td>\n",
       "      <td>0.005328</td>\n",
       "      <td>0.011914</td>\n",
       "      <td>57544.470083</td>\n",
       "      <td>5.511502e+07</td>\n",
       "      <td>Earth</td>\n",
       "      <td>False</td>\n",
       "      <td>28.49</td>\n",
       "      <td>False</td>\n",
       "    </tr>\n",
       "    <tr>\n",
       "      <th>8</th>\n",
       "      <td>2088213</td>\n",
       "      <td>88213 (2001 AF2)</td>\n",
       "      <td>0.350393</td>\n",
       "      <td>0.783502</td>\n",
       "      <td>56625.210122</td>\n",
       "      <td>6.903598e+07</td>\n",
       "      <td>Earth</td>\n",
       "      <td>False</td>\n",
       "      <td>19.40</td>\n",
       "      <td>False</td>\n",
       "    </tr>\n",
       "  </tbody>\n",
       "</table>\n",
       "</div>"
      ],
      "text/plain": [
       "         id                 name  est_diameter_min  est_diameter_max  \\\n",
       "0   2162635  162635 (2000 SS164)          1.198271          2.679415   \n",
       "1   2277475    277475 (2005 WK4)          0.265800          0.594347   \n",
       "2   2512244   512244 (2015 YE18)          0.722030          1.614507   \n",
       "3   3596030          (2012 BV13)          0.096506          0.215794   \n",
       "4   3667127          (2014 GE35)          0.255009          0.570217   \n",
       "5  54138696          (2021 GY23)          0.036354          0.081291   \n",
       "6  54189957          (2021 PY40)          0.171615          0.383743   \n",
       "7  54230078           (2021 XD6)          0.005328          0.011914   \n",
       "8   2088213     88213 (2001 AF2)          0.350393          0.783502   \n",
       "\n",
       "   relative_velocity  miss_distance orbiting_body  sentry_object  \\\n",
       "0       13569.249224   5.483974e+07         Earth          False   \n",
       "1       73588.726663   6.143813e+07         Earth          False   \n",
       "2      114258.692129   4.979872e+07         Earth          False   \n",
       "3       24764.303138   2.543497e+07         Earth          False   \n",
       "4       42737.733765   4.627557e+07         Earth          False   \n",
       "5       34297.587778   4.058569e+07         Earth          False   \n",
       "6       27529.472307   2.906912e+07         Earth          False   \n",
       "7       57544.470083   5.511502e+07         Earth          False   \n",
       "8       56625.210122   6.903598e+07         Earth          False   \n",
       "\n",
       "   absolute_magnitude  hazardous  \n",
       "0               16.73      False  \n",
       "1               20.00       True  \n",
       "2               17.83      False  \n",
       "3               22.20      False  \n",
       "4               20.09       True  \n",
       "5               24.32      False  \n",
       "6               20.95      False  \n",
       "7               28.49      False  \n",
       "8               19.40      False  "
      ]
     },
     "execution_count": 56,
     "metadata": {},
     "output_type": "execute_result"
    }
   ],
   "source": [
    "# Write your code for Q1.1 here\n",
    "df.head(9)"
   ]
  },
  {
   "cell_type": "code",
   "execution_count": 62,
   "id": "8be5aaec",
   "metadata": {},
   "outputs": [
    {
     "data": {
      "text/plain": [
       "id                    0\n",
       "name                  0\n",
       "est_diameter_min      0\n",
       "est_diameter_max      0\n",
       "relative_velocity     0\n",
       "miss_distance         0\n",
       "orbiting_body         0\n",
       "sentry_object         0\n",
       "absolute_magnitude    0\n",
       "hazardous             0\n",
       "dtype: int64"
      ]
     },
     "execution_count": 62,
     "metadata": {},
     "output_type": "execute_result"
    }
   ],
   "source": [
    "# Write your code for Q1.2 here\n",
    "df.isnull().sum()"
   ]
  },
  {
   "cell_type": "markdown",
   "id": "fd875399",
   "metadata": {},
   "source": [
    "No missing values\n"
   ]
  },
  {
   "cell_type": "markdown",
   "id": "bbfbfc03",
   "metadata": {},
   "source": [
    "### Q2. Create separate arrays to store features and target label (1 point)\n",
    "In this dataset, the target label is indicated in the column 'hazardous'. Among the other columns, we will use the following as features (predictor variables): 'est_diameter_min', 'est_diameter_max', 'relative_velocity', 'miss_distance', 'sentry_object', 'absolute_magnitude'. \n",
    "\n",
    "You need to create the following arrays. HINT: both arrays must only contain numeric values.\n",
    "- X: stores all predictor variables\n",
    "- y: stores all target label"
   ]
  },
  {
   "cell_type": "code",
   "execution_count": 70,
   "id": "a3671dd8",
   "metadata": {},
   "outputs": [],
   "source": [
    "# Write your code for Q2 here\n",
    "X = df[['est_diameter_min', 'est_diameter_max', 'relative_velocity', 'miss_distance', 'sentry_object', 'absolute_magnitude']].values\n",
    "y = df['hazardous'].values"
   ]
  },
  {
   "cell_type": "markdown",
   "id": "d9f24c23",
   "metadata": {},
   "source": [
    "Use this cell to write discussion texts if needed.\n"
   ]
  },
  {
   "cell_type": "markdown",
   "id": "72b3502b",
   "metadata": {},
   "source": [
    "### Q3. Split dataset into train-test with a 80/20 split (1 point)\n",
    "Use the proper commands to split (X,y) into training set (80% of all data), and testing set (20% of all data)."
   ]
  },
  {
   "cell_type": "code",
   "execution_count": 64,
   "id": "c0a0e9a1",
   "metadata": {},
   "outputs": [],
   "source": [
    "# Write your code for Q3 here: use random_state=4\n",
    "from sklearn.model_selection import train_test_split\n",
    "X_train, X_test, y_train, y_test = train_test_split(X, y, test_size=0.2, random_state=4)"
   ]
  },
  {
   "cell_type": "markdown",
   "id": "87885fff",
   "metadata": {},
   "source": [
    "Use this cell to write discussion texts if needed.\n"
   ]
  },
  {
   "cell_type": "markdown",
   "id": "93da4c12",
   "metadata": {},
   "source": [
    "### Q4. Fit a benchmark kNN model (2 points)\n",
    "Use the proper commands to fit a kNN model on the training set with the following setups in `scikit-learn`.\n",
    "- Each data point will be classified with its 5 nearest neighbors.\n",
    "- The distance between two data points is measured with Euclidean distance.\n",
    "- The label is decided with unweighted voting among a point's neighbors."
   ]
  },
  {
   "cell_type": "code",
   "execution_count": 67,
   "id": "bf218c53",
   "metadata": {},
   "outputs": [
    {
     "data": {
      "text/html": [
       "<style>#sk-container-id-5 {color: black;background-color: white;}#sk-container-id-5 pre{padding: 0;}#sk-container-id-5 div.sk-toggleable {background-color: white;}#sk-container-id-5 label.sk-toggleable__label {cursor: pointer;display: block;width: 100%;margin-bottom: 0;padding: 0.3em;box-sizing: border-box;text-align: center;}#sk-container-id-5 label.sk-toggleable__label-arrow:before {content: \"▸\";float: left;margin-right: 0.25em;color: #696969;}#sk-container-id-5 label.sk-toggleable__label-arrow:hover:before {color: black;}#sk-container-id-5 div.sk-estimator:hover label.sk-toggleable__label-arrow:before {color: black;}#sk-container-id-5 div.sk-toggleable__content {max-height: 0;max-width: 0;overflow: hidden;text-align: left;background-color: #f0f8ff;}#sk-container-id-5 div.sk-toggleable__content pre {margin: 0.2em;color: black;border-radius: 0.25em;background-color: #f0f8ff;}#sk-container-id-5 input.sk-toggleable__control:checked~div.sk-toggleable__content {max-height: 200px;max-width: 100%;overflow: auto;}#sk-container-id-5 input.sk-toggleable__control:checked~label.sk-toggleable__label-arrow:before {content: \"▾\";}#sk-container-id-5 div.sk-estimator input.sk-toggleable__control:checked~label.sk-toggleable__label {background-color: #d4ebff;}#sk-container-id-5 div.sk-label input.sk-toggleable__control:checked~label.sk-toggleable__label {background-color: #d4ebff;}#sk-container-id-5 input.sk-hidden--visually {border: 0;clip: rect(1px 1px 1px 1px);clip: rect(1px, 1px, 1px, 1px);height: 1px;margin: -1px;overflow: hidden;padding: 0;position: absolute;width: 1px;}#sk-container-id-5 div.sk-estimator {font-family: monospace;background-color: #f0f8ff;border: 1px dotted black;border-radius: 0.25em;box-sizing: border-box;margin-bottom: 0.5em;}#sk-container-id-5 div.sk-estimator:hover {background-color: #d4ebff;}#sk-container-id-5 div.sk-parallel-item::after {content: \"\";width: 100%;border-bottom: 1px solid gray;flex-grow: 1;}#sk-container-id-5 div.sk-label:hover label.sk-toggleable__label {background-color: #d4ebff;}#sk-container-id-5 div.sk-serial::before {content: \"\";position: absolute;border-left: 1px solid gray;box-sizing: border-box;top: 0;bottom: 0;left: 50%;z-index: 0;}#sk-container-id-5 div.sk-serial {display: flex;flex-direction: column;align-items: center;background-color: white;padding-right: 0.2em;padding-left: 0.2em;position: relative;}#sk-container-id-5 div.sk-item {position: relative;z-index: 1;}#sk-container-id-5 div.sk-parallel {display: flex;align-items: stretch;justify-content: center;background-color: white;position: relative;}#sk-container-id-5 div.sk-item::before, #sk-container-id-5 div.sk-parallel-item::before {content: \"\";position: absolute;border-left: 1px solid gray;box-sizing: border-box;top: 0;bottom: 0;left: 50%;z-index: -1;}#sk-container-id-5 div.sk-parallel-item {display: flex;flex-direction: column;z-index: 1;position: relative;background-color: white;}#sk-container-id-5 div.sk-parallel-item:first-child::after {align-self: flex-end;width: 50%;}#sk-container-id-5 div.sk-parallel-item:last-child::after {align-self: flex-start;width: 50%;}#sk-container-id-5 div.sk-parallel-item:only-child::after {width: 0;}#sk-container-id-5 div.sk-dashed-wrapped {border: 1px dashed gray;margin: 0 0.4em 0.5em 0.4em;box-sizing: border-box;padding-bottom: 0.4em;background-color: white;}#sk-container-id-5 div.sk-label label {font-family: monospace;font-weight: bold;display: inline-block;line-height: 1.2em;}#sk-container-id-5 div.sk-label-container {text-align: center;}#sk-container-id-5 div.sk-container {/* jupyter's `normalize.less` sets `[hidden] { display: none; }` but bootstrap.min.css set `[hidden] { display: none !important; }` so we also need the `!important` here to be able to override the default hidden behavior on the sphinx rendered scikit-learn.org. See: https://github.com/scikit-learn/scikit-learn/issues/21755 */display: inline-block !important;position: relative;}#sk-container-id-5 div.sk-text-repr-fallback {display: none;}</style><div id=\"sk-container-id-5\" class=\"sk-top-container\"><div class=\"sk-text-repr-fallback\"><pre>KNeighborsClassifier(metric=&#x27;euclidean&#x27;)</pre><b>In a Jupyter environment, please rerun this cell to show the HTML representation or trust the notebook. <br />On GitHub, the HTML representation is unable to render, please try loading this page with nbviewer.org.</b></div><div class=\"sk-container\" hidden><div class=\"sk-item\"><div class=\"sk-estimator sk-toggleable\"><input class=\"sk-toggleable__control sk-hidden--visually\" id=\"sk-estimator-id-5\" type=\"checkbox\" checked><label for=\"sk-estimator-id-5\" class=\"sk-toggleable__label sk-toggleable__label-arrow\">KNeighborsClassifier</label><div class=\"sk-toggleable__content\"><pre>KNeighborsClassifier(metric=&#x27;euclidean&#x27;)</pre></div></div></div></div></div>"
      ],
      "text/plain": [
       "KNeighborsClassifier(metric='euclidean')"
      ]
     },
     "execution_count": 67,
     "metadata": {},
     "output_type": "execute_result"
    }
   ],
   "source": [
    "# Write your code for Q4 here\n",
    "from sklearn.neighbors import KNeighborsClassifier\n",
    "knn = KNeighborsClassifier(n_neighbors=5, weights='uniform', metric='euclidean')\n",
    "knn.fit(X_train, y_train)"
   ]
  },
  {
   "cell_type": "markdown",
   "id": "b28552a7",
   "metadata": {},
   "source": [
    "Use this cell to write discussion texts if needed.\n"
   ]
  },
  {
   "cell_type": "markdown",
   "id": "a1232b87",
   "metadata": {},
   "source": [
    "### Q5. Apply and test the trained kNN model (1 point)\n",
    "1. Predict the label for a unlabeled asteroid with the following features: \n",
    "est_diameter_min = 0.127, est_diameter_max = 0.285, relative_velocity = 48066, miss_distance = 37066550,  sentry_object = True, absolute_magnitude = 23.5\n",
    "2. Use the proper command to find the model's precision value, and classification accuracy on testing set."
   ]
  },
  {
   "cell_type": "code",
   "execution_count": 74,
   "id": "9d168053",
   "metadata": {},
   "outputs": [
    {
     "name": "stdout",
     "output_type": "stream",
     "text": [
      "[False]\n"
     ]
    }
   ],
   "source": [
    "# Write your code for Q5.1 here\n",
    "new_data = np.array([[0.127, 0.285, 48066, 37066550, True, 23.5]])\n",
    "scaled_new_data = scaler.transform(new_data)\n",
    "predicted_label = knn.predict(scaled_new_data)\n",
    "print(predicted_label)"
   ]
  },
  {
   "cell_type": "code",
   "execution_count": 76,
   "id": "bfbc18ba",
   "metadata": {},
   "outputs": [
    {
     "name": "stdout",
     "output_type": "stream",
     "text": [
      "Precision:  0.44710211591536336\n",
      "Accuracy:  0.8995486569793043\n"
     ]
    }
   ],
   "source": [
    "# Write your code for Q5.2 here\n",
    "from sklearn.metrics import precision_score, accuracy_score\n",
    "\n",
    "y_pred = knn.predict(X_test_scaled)\n",
    "precision = precision_score(y_test, y_pred)\n",
    "accuracy = accuracy_score(y_test, y_pred)\n",
    "print(\"Precision: \", precision)\n",
    "print(\"Accuracy: \", accuracy)"
   ]
  },
  {
   "cell_type": "markdown",
   "id": "2a455234",
   "metadata": {},
   "source": [
    "Use this cell to write discussion texts if needed.\n"
   ]
  },
  {
   "cell_type": "markdown",
   "id": "52c2b556",
   "metadata": {},
   "source": [
    "### Q6. Use cross validation to select k from the range [2,20] (2 points)\n",
    "Use the proper command to select k from the indicated range with 5-fold cross validation. Note that you will use the training dataset for cross validation. Your goal is to find the k in this range that gives the best validation accuracy score. "
   ]
  },
  {
   "cell_type": "code",
   "execution_count": 77,
   "id": "b3179f81",
   "metadata": {},
   "outputs": [
    {
     "name": "stdout",
     "output_type": "stream",
     "text": [
      "Best k value:  20\n",
      "Validation accuracy:  0.9090934312897602\n"
     ]
    }
   ],
   "source": [
    "# Write your code for Q6 here. Hint: you should use the imported GridSearchCV function\n",
    "from sklearn.model_selection import GridSearchCV\n",
    "\n",
    "k_range = range(2, 21)\n",
    "param_grid = {'n_neighbors': k_range}\n",
    "grid_search = GridSearchCV(knn, param_grid, cv=5, scoring='accuracy')\n",
    "grid_search.fit(X_train_scaled, y_train)\n",
    "print(\"Best k value: \", grid_search.best_params_['n_neighbors'])\n",
    "print(\"Validation accuracy: \", grid_search.best_score_)"
   ]
  },
  {
   "cell_type": "markdown",
   "id": "7ac61e9b",
   "metadata": {},
   "source": [
    "Use this cell to write discussion texts if needed.\n"
   ]
  },
  {
   "cell_type": "markdown",
   "id": "60617f58",
   "metadata": {},
   "source": [
    "### Q7. Apply scaling to variables (2 points)\n",
    "The predictor variables vary greatly in scales. We now wish to scale two columns that are significantly larger than the rest: 'relative_velocity', 'miss_distance'. You need to complete two separate tasks.\n",
    "1. Select a scaling approach to scale the columns so that they both have the range [0,1]. (0.5 point)\n",
    "2. Repeat Q3 and Q4 on the scaled dataset, namely, use a 80/20 train-test split to train a kNN with the same setting from Q5. Then report the kNN's testing accuracy. (0.5 point)"
   ]
  },
  {
   "cell_type": "code",
   "execution_count": 84,
   "id": "eaa7ce4e",
   "metadata": {},
   "outputs": [],
   "source": [
    "from sklearn.preprocessing import MinMaxScaler\n",
    "\n",
    "scaler = MinMaxScaler()\n",
    "X_train = pd.DataFrame(X_train, columns=['est_diameter_min', 'est_diameter_max', 'relative_velocity', 'miss_distance', 'sentry_object', 'absolute_magnitude'])\n",
    "X_test = pd.DataFrame(X_test, columns=['est_diameter_min', 'est_diameter_max', 'relative_velocity', 'miss_distance', 'sentry_object', 'absolute_magnitude'])\n",
    "cols_to_scale = ['relative_velocity', 'miss_distance']\n",
    "X_train_scaled = X_train.copy()\n",
    "if set(cols_to_scale).issubset(X_train.columns):\n",
    "    X_train_scaled[cols_to_scale] = scaler.fit_transform(X_train[cols_to_scale])\n",
    "\n",
    "X_test_scaled = X_test.copy()\n",
    "if set(cols_to_scale).issubset(X_test.columns):\n",
    "    X_test_scaled[cols_to_scale] = scaler.transform(X_test[cols_to_scale])"
   ]
  },
  {
   "cell_type": "code",
   "execution_count": 86,
   "id": "8d7d60ab",
   "metadata": {},
   "outputs": [
    {
     "name": "stdout",
     "output_type": "stream",
     "text": [
      "Accuracy on testing set (scaled): 0.908\n",
      "Precision on testing set (scaled): 0.516\n"
     ]
    }
   ],
   "source": [
    "# Write your code for Q7.2 here\n",
    "# Scale the columns 'relative_velocity' and 'miss_distance' using MinMaxScaler\n",
    "from sklearn.preprocessing import MinMaxScaler\n",
    "scaler = MinMaxScaler()\n",
    "X_train_scaled = X_train.copy()\n",
    "X_train_scaled[['relative_velocity', 'miss_distance']] = scaler.fit_transform(X_train[['relative_velocity', 'miss_distance']])\n",
    "X_test_scaled = X_test.copy()\n",
    "X_test_scaled[['relative_velocity', 'miss_distance']] = scaler.transform(X_test[['relative_velocity', 'miss_distance']])\n",
    "\n",
    "from sklearn.neighbors import KNeighborsClassifier\n",
    "k = 5\n",
    "knn_scaled = KNeighborsClassifier(n_neighbors=k, weights='uniform', p=2)\n",
    "knn_scaled.fit(X_train_scaled, y_train)\n",
    "y_pred_scaled = knn_scaled.predict(X_test_scaled)\n",
    "\n",
    "from sklearn.metrics import accuracy_score, precision_score\n",
    "accuracy_scaled = accuracy_score(y_test, y_pred_scaled)\n",
    "precision_scaled = precision_score(y_test, y_pred_scaled)\n",
    "print(\"Accuracy on testing set (scaled): {:.3f}\".format(accuracy_scaled))\n",
    "print(\"Precision on testing set (scaled): {:.3f}\".format(precision_scaled))"
   ]
  },
  {
   "cell_type": "markdown",
   "id": "d8b3bfcd",
   "metadata": {},
   "source": [
    "Use this cell to write discussion texts if needed.\n"
   ]
  }
 ],
 "metadata": {
  "kernelspec": {
   "display_name": "Python 3 (ipykernel)",
   "language": "python",
   "name": "python3"
  },
  "language_info": {
   "codemirror_mode": {
    "name": "ipython",
    "version": 3
   },
   "file_extension": ".py",
   "mimetype": "text/x-python",
   "name": "python",
   "nbconvert_exporter": "python",
   "pygments_lexer": "ipython3",
   "version": "3.10.7"
  }
 },
 "nbformat": 4,
 "nbformat_minor": 5
}
